{
 "cells": [
  {
   "cell_type": "code",
   "execution_count": 1,
   "metadata": {
    "scrolled": false
   },
   "outputs": [
    {
     "output_type": "stream",
     "name": "stdout",
     "text": [
      "training complete\n"
     ]
    }
   ],
   "source": [
    "import pandas as pd\n",
    "from sklearn.linear_model import LinearRegression\n",
    "import pickle\n",
    "\n",
    "df = pd.read_csv(\"FuelConsumption.csv\")\n",
    "#use required features\n",
    "cdf = df[['ENGINESIZE','CYLINDERS','FUELCONSUMPTION_COMB','CO2EMISSIONS']]\n",
    "\n",
    "#Training Data and Predictor Variable\n",
    "# Use all data for training (tarin-test-split not used)\n",
    "x = cdf.iloc[:, :3]\n",
    "y = cdf.iloc[:, -1]\n",
    "regressor = LinearRegression()\n",
    "\n",
    "#Fitting model with trainig data\n",
    "regressor.fit(x, y)\n",
    "\n",
    "# Saving model to current directory\n",
    "# Pickle serializes objects so they can be saved to a file, and loaded in a program again later on.\n",
    "pickle.dump(regressor, open('model.pkl','wb'))\n",
    "\n",
    "print(\"training complete\")"
   ]
  },
  {
   "cell_type": "code",
   "execution_count": 2,
   "metadata": {},
   "outputs": [
    {
     "output_type": "stream",
     "name": "stdout",
     "text": [
      "[164.13190405]\n"
     ]
    }
   ],
   "source": [
    "#Loading model to compare the results\n",
    "model = pickle.load(open('model.pkl','rb'))\n",
    "print(model.predict([[2.6, 8, 1.1]]))"
   ]
  },
  {
   "cell_type": "code",
   "execution_count": null,
   "metadata": {},
   "outputs": [],
   "source": []
  }
 ],
 "metadata": {
  "kernelspec": {
   "name": "python3",
   "display_name": "Python 3.7.3 64-bit ('base': conda)"
  },
  "language_info": {
   "codemirror_mode": {
    "name": "ipython",
    "version": 3
   },
   "file_extension": ".py",
   "mimetype": "text/x-python",
   "name": "python",
   "nbconvert_exporter": "python",
   "pygments_lexer": "ipython3",
   "version": "3.7.3"
  },
  "interpreter": {
   "hash": "763b8cc48afd3ab0670d64c9dd66218acc6ec8523a973dcc2115add55b6449b4"
  }
 },
 "nbformat": 4,
 "nbformat_minor": 2
}